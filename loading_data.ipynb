{
  "nbformat": 4,
  "nbformat_minor": 0,
  "metadata": {
    "colab": {
      "name": "loading_data.ipynb",
      "provenance": [],
      "authorship_tag": "ABX9TyOzj1VsFKhwCfowcrjgmk/j",
      "include_colab_link": true
    },
    "kernelspec": {
      "name": "python3",
      "display_name": "Python 3"
    },
    "language_info": {
      "name": "python"
    }
  },
  "cells": [
    {
      "cell_type": "markdown",
      "metadata": {
        "id": "view-in-github",
        "colab_type": "text"
      },
      "source": [
        "<a href=\"https://colab.research.google.com/github/karimadadda/Deep_learning_project/blob/main/loading_data.ipynb\" target=\"_parent\"><img src=\"https://colab.research.google.com/assets/colab-badge.svg\" alt=\"Open In Colab\"/></a>"
      ]
    },
    {
      "cell_type": "code",
      "execution_count": null,
      "metadata": {
        "id": "3j4RgPf37vG3"
      },
      "outputs": [],
      "source": [
        "\n",
        "import pandas as pd\n",
        "import numpy as np\n",
        "\n",
        "\n",
        "# load data and preprocess\n",
        "def data_preparation(path, type='excel'):\n",
        "\n",
        "    if type is 'csv':\n",
        "        df = pd.read_csv(path)\n",
        "    if type is 'excel':\n",
        "        df = pd.read_excel(path)\n",
        "\n",
        "    # x and y\n",
        "    y = np.array(df['y'])\n",
        "    x = df.drop(['y'], axis=1)\n",
        "\n",
        "    # for each patient, convert their containing symptoms to a list of words\n",
        "    bin_feats = []\n",
        "\n",
        "    for i in x.columns:\n",
        "        if len(x[i].unique()) == 2:\n",
        "            bin_feats.append(i)\n",
        "\n",
        "    x_bin = x[bin_feats]\n",
        "    x_bin = x_bin.replace(0, np.nan)\n",
        "    x_bin_features = bin_gen(x_bin)\n",
        "\n",
        "    # pad to the maximum length and convert to matrix\n",
        "    x_bin_features, feats, tokens, feat_max = bin_pad_convert(x_bin_features, bin_feats)\n",
        "\n",
        "    return x_bin_features, feats, tokens, feat_max, y\n",
        "\n",
        "\n",
        "# convert to a list of words for binary features\n",
        "def bin_gen(x):\n",
        "\n",
        "    x_features = []\n",
        "\n",
        "    for i in range(x.shape[0]):\n",
        "        index = x.columns[x.iloc[i, :].notnull()]\n",
        "        feats = np.array(index)\n",
        "        x_features.append(feats)\n",
        "\n",
        "    return np.array(x_features)\n",
        "\n",
        "\n",
        "# convert to matrix and generate descriptions (binary features)\n",
        "def bin_pad_convert(txt_features, bin_feat_list):\n",
        "\n",
        "    bin_feat_max = max([len(feat) for feat in txt_features])\n",
        "    bin_feats = ['pad'] + bin_feat_list\n",
        "    tokens = len(bin_feats)\n",
        "\n",
        "    x_features = np.zeros((len(txt_features), bin_feat_max), dtype='int32')\n",
        "    feat_index = dict([(char, i) for i, char in enumerate(bin_feats)])\n",
        "\n",
        "    for i, input_text in enumerate(txt_features):\n",
        "        for t, char in enumerate(input_text):\n",
        "            x_features[i, t] = feat_index[char]\n",
        "\n",
        "    return x_features, bin_feats, tokens, bin_feat_max\n"
      ]
    }
  ]
}